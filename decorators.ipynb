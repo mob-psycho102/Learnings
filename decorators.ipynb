{
 "cells": [
  {
   "cell_type": "markdown",
   "id": "698efca8",
   "metadata": {},
   "source": [
    "## If we want varied input in our function then , use of default parameters is one of the way "
   ]
  },
  {
   "cell_type": "code",
   "execution_count": 1,
   "id": "df6b6184",
   "metadata": {},
   "outputs": [],
   "source": [
    "def greet(name=\"stranger\"):\n",
    "    \"\"\"\n",
    "    Greets the user with a message.\n",
    "\n",
    "    :param name: The name of the user to greet. Defaults to \"stranger\".\n",
    "    :return: A greeting message.\n",
    "    \"\"\"\n",
    "    return f\"Hello, {name}!\""
   ]
  },
  {
   "cell_type": "code",
   "execution_count": 2,
   "id": "dd33903d",
   "metadata": {},
   "outputs": [
    {
     "data": {
      "text/plain": [
       "'Hello, Rishabh!'"
      ]
     },
     "execution_count": 2,
     "metadata": {},
     "output_type": "execute_result"
    }
   ],
   "source": [
    "greet(\"Rishabh\")"
   ]
  },
  {
   "cell_type": "code",
   "execution_count": 3,
   "id": "ffab3a82",
   "metadata": {},
   "outputs": [
    {
     "data": {
      "text/plain": [
       "'Hello, stranger!'"
      ]
     },
     "execution_count": 3,
     "metadata": {},
     "output_type": "execute_result"
    }
   ],
   "source": [
    "greet()"
   ]
  },
  {
   "cell_type": "markdown",
   "id": "8844419a",
   "metadata": {},
   "source": [
    "## *Args\n",
    "### It helps the function having arbitary number of positional-parameters"
   ]
  },
  {
   "cell_type": "code",
   "execution_count": 4,
   "id": "62f6fbdd",
   "metadata": {},
   "outputs": [],
   "source": [
    "def greet(*names):\n",
    "\n",
    "    # names=(\"rishabh\", \"sachin\", \"saurabh\") // It's a tuple of names\n",
    "    \"\"\"\n",
    "    Greets multiple users with a message.\n",
    "\n",
    "    :param names: A variable number of names to greet.\n",
    "    :return: A greeting message for each name.\n",
    "    \"\"\"\n",
    "    return [f\"Hello, {name}!\" for name in names]"
   ]
  },
  {
   "cell_type": "code",
   "execution_count": 5,
   "id": "4614d5ab",
   "metadata": {},
   "outputs": [
    {
     "data": {
      "text/plain": [
       "[\"Hello, ['rishabh', 'sachin', 'saurabh']!\"]"
      ]
     },
     "execution_count": 5,
     "metadata": {},
     "output_type": "execute_result"
    }
   ],
   "source": [
    "greet([\"rishabh\", \"sachin\", \"saurabh\"])"
   ]
  },
  {
   "cell_type": "markdown",
   "id": "716ad5da",
   "metadata": {},
   "source": [
    "## **Kwargs\n",
    "### It helps the function having arbitary number of keyword-arguments"
   ]
  },
  {
   "cell_type": "code",
   "execution_count": 6,
   "id": "49f039f7",
   "metadata": {},
   "outputs": [],
   "source": [
    "def greet(**kwargs):\n",
    "    \"\"\"\n",
    "    Greets users with a message using keyword arguments.\n",
    "\n",
    "    :param kwargs: A variable number of keyword arguments representing names.\n",
    "    :return: A greeting message for each name.\n",
    "    \"\"\"\n",
    "\n",
    "    for key ,value in kwargs.items():\n",
    "        print(f\"Key {key}: {value}\")\n"
   ]
  },
  {
   "cell_type": "code",
   "execution_count": 7,
   "id": "fa8f037e",
   "metadata": {},
   "outputs": [
    {
     "name": "stdout",
     "output_type": "stream",
     "text": [
      "Key name: Rishabh\n",
      "Key loc: Delhi\n",
      "Key age: 25\n"
     ]
    }
   ],
   "source": [
    "greet(name=\"Rishabh\",loc=\"Delhi\", age=25 )\n"
   ]
  },
  {
   "cell_type": "markdown",
   "id": "e6e7648b",
   "metadata": {},
   "source": [
    "## Positional-Arguments Always Comes Before Keyword-Arguments\n",
    "\n",
    "### def func(*args,**kwargs):"
   ]
  },
  {
   "cell_type": "markdown",
   "id": "20e8820d",
   "metadata": {},
   "source": [
    "# ----------------------------------------------------------"
   ]
  },
  {
   "cell_type": "markdown",
   "id": "c697ed61",
   "metadata": {},
   "source": [
    "# HOF's (Higher Order Functions)\n",
    "## HOF's are the functions which does atleast one of these things:\n",
    "### 1.) Takes ono or more functions as its parameter (inner functions)\n",
    "### 2.) Returns a function as its result"
   ]
  },
  {
   "cell_type": "code",
   "execution_count": 8,
   "id": "baf3ddbd",
   "metadata": {},
   "outputs": [
    {
     "name": "stdout",
     "output_type": "stream",
     "text": [
      "HELLO RISHABH!!!!\n"
     ]
    }
   ],
   "source": [
    "# Example 1 (Passing a function as an argument)\n",
    "def greet(name):\n",
    "    return f\"Hello {name}!\"\n",
    "def loud(func, name):\n",
    "    return func(name).upper()+\"!!!\"\n",
    "\n",
    "loud_greet=loud(greet, \"Rishabh\")\n",
    "print(loud_greet)"
   ]
  },
  {
   "cell_type": "code",
   "execution_count": 9,
   "id": "7079338e",
   "metadata": {},
   "outputs": [
    {
     "name": "stdout",
     "output_type": "stream",
     "text": [
      "HELLO RISHABH!!!!\n"
     ]
    }
   ],
   "source": [
    "# Example 2 (Inner function)\n",
    "\n",
    "def greet(name):\n",
    "    return f\"Hello {name}!\"\n",
    "\n",
    "def loud(func):\n",
    "    def wrappper(name):\n",
    "        return func(name).upper()+\"!!!\"\n",
    "    return wrappper\n",
    "\n",
    "loud_greet_func=loud(greet)\n",
    "print(loud_greet_func(\"Rishabh\"))"
   ]
  },
  {
   "cell_type": "markdown",
   "id": "652b7e60",
   "metadata": {},
   "source": [
    "# Exercise 1\n",
    "## We have to create a HOF which helps us in doubling the answer of any function provided"
   ]
  },
  {
   "cell_type": "code",
   "execution_count": 10,
   "id": "71f88b4e",
   "metadata": {},
   "outputs": [],
   "source": [
    "def add(a, b):\n",
    "   \n",
    "    return a + b\n",
    "def multiply(a, b):\n",
    "   \n",
    "    return a * b\n",
    "\n",
    "def get_double(func):\n",
    "    def wrapper(a, b):\n",
    "        result = func(a, b)*2\n",
    "        return result\n",
    "    return wrapper"
   ]
  },
  {
   "cell_type": "code",
   "execution_count": 11,
   "id": "098bd4e9",
   "metadata": {},
   "outputs": [
    {
     "name": "stdout",
     "output_type": "stream",
     "text": [
      "10\n",
      "12\n"
     ]
    }
   ],
   "source": [
    "double_add = get_double(add)\n",
    "print(double_add(2, 3))\n",
    "\n",
    "double_multiply = get_double(multiply)\n",
    "print(double_multiply(2, 3))"
   ]
  },
  {
   "cell_type": "markdown",
   "id": "e19caa00",
   "metadata": {},
   "source": [
    "# First Class Functions (Functions are treated as any other objects)"
   ]
  },
  {
   "cell_type": "code",
   "execution_count": 13,
   "id": "077df771",
   "metadata": {},
   "outputs": [],
   "source": [
    "def loud_greet(name):\n",
    "    return f\"Hello {name}!\".upper() + \"!!!\"\n",
    "\n",
    "def quiet_greet(name):\n",
    "    return f\"Hello {name}!\"\n",
    "\n",
    "def greet(func, name):\n",
    "    return func(name)"
   ]
  },
  {
   "cell_type": "code",
   "execution_count": 14,
   "id": "9977a0e0",
   "metadata": {},
   "outputs": [
    {
     "name": "stdout",
     "output_type": "stream",
     "text": [
      "HELLO RISHABH!!!!\n"
     ]
    }
   ],
   "source": [
    "wish=greet(loud_greet, \"Rishabh\")\n",
    "print(wish)"
   ]
  },
  {
   "cell_type": "markdown",
   "id": "7770f0b6",
   "metadata": {},
   "source": [
    "# Closures\n",
    "### There's a way to retain or remember values from a particular scope even after that scoped has exited or returned\n",
    "### At its core a closure in python is a function object that has access to variables from a passed scope or an outside scope\n",
    "#### We care because this feature of closures makes them useful for creating individual function instances with their own private state . \n",
    "#### This can be used to generate function factories where each return function has specific behavior tied to the data that is closed over ."
   ]
  },
  {
   "cell_type": "code",
   "execution_count": 16,
   "id": "56b194ec",
   "metadata": {},
   "outputs": [
    {
     "name": "stdout",
     "output_type": "stream",
     "text": [
      "15\n",
      "25\n"
     ]
    }
   ],
   "source": [
    "# Example 1\n",
    "def outer(x):\n",
    "    def inner(y):\n",
    "        return x + y\n",
    "    return inner\n",
    "add_five = outer(5)\n",
    "print(add_five(10))  # Output: 15\n",
    "print(add_five(20))  # Output: 25"
   ]
  },
  {
   "cell_type": "markdown",
   "id": "4462e5fa",
   "metadata": {},
   "source": [
    "## One thing needs to keep in mind that in closures we only have read access to the outer variables , but there's an exception to the mutable objects"
   ]
  },
  {
   "cell_type": "code",
   "execution_count": null,
   "id": "e9840f2f",
   "metadata": {},
   "outputs": [],
   "source": [
    "# Example 1\n",
    "\n",
    "def count():\n",
    "    # Here we have to make it mutable to write the variable\n",
    "    x=[0]\n",
    "    def inner():\n",
    "        x[0]=x[0]+1\n",
    "        return x[0]\n",
    "    return inner\n"
   ]
  },
  {
   "cell_type": "code",
   "execution_count": 32,
   "id": "2e93e517",
   "metadata": {},
   "outputs": [
    {
     "name": "stdout",
     "output_type": "stream",
     "text": [
      "COUNTER B is 1\n",
      "COUNTER B is 2\n",
      "COUNTER B is 1\n"
     ]
    }
   ],
   "source": [
    "\n",
    "counterA=count()\n",
    "print(f\"COUNTER B is {counterA()}\")\n",
    "print(f\"COUNTER B is {counterA()}\")\n",
    "counterB=count()\n",
    "print(f\"COUNTER B is {counterB()}\")"
   ]
  },
  {
   "cell_type": "markdown",
   "id": "ad03dca2",
   "metadata": {},
   "source": [
    "# Decorators !!! \n",
    "### A Decorator is a special kind of function that either modifies another function or extends it without explicitly changing its source code .\n",
    "### Decorators provide a simple syntax for changing rather for calling higher order functions in order to modify other function behaviour .\n",
    "### Decorators can be applied on function , class , methods in python"
   ]
  },
  {
   "cell_type": "code",
   "execution_count": 18,
   "id": "c13b7a94",
   "metadata": {},
   "outputs": [],
   "source": [
    "def seasoning(fun):\n",
    "    def wrapper():\n",
    "        print(\"seasoning Added\")\n",
    "        return fun()\n",
    "    return wrapper\n"
   ]
  },
  {
   "cell_type": "code",
   "execution_count": 19,
   "id": "69de672c",
   "metadata": {},
   "outputs": [],
   "source": [
    "def boil():\n",
    "    print(\"Boiling Done\")"
   ]
  },
  {
   "cell_type": "markdown",
   "id": "571f9998",
   "metadata": {},
   "source": [
    "### Traditional way of Using Decorators (It's None other than HOF's 😉)"
   ]
  },
  {
   "cell_type": "code",
   "execution_count": 20,
   "id": "df00ad3b",
   "metadata": {},
   "outputs": [],
   "source": [
    "seasoned_boil=seasoning(boil)"
   ]
  },
  {
   "cell_type": "code",
   "execution_count": 21,
   "id": "f39fd188",
   "metadata": {},
   "outputs": [
    {
     "name": "stdout",
     "output_type": "stream",
     "text": [
      "seasoning Added\n",
      "Boiling Done\n"
     ]
    }
   ],
   "source": [
    "seasoned_boil()"
   ]
  },
  {
   "cell_type": "markdown",
   "id": "93ce01e5",
   "metadata": {},
   "source": [
    "### Modern way of using Decorators -> using '@' symbol"
   ]
  },
  {
   "cell_type": "code",
   "execution_count": 58,
   "id": "3f661ef4",
   "metadata": {},
   "outputs": [],
   "source": [
    "@seasoning\n",
    "def boil():\n",
    "    print(\"Boiling Done\")"
   ]
  },
  {
   "cell_type": "code",
   "execution_count": 59,
   "id": "c61f7fe0",
   "metadata": {},
   "outputs": [
    {
     "name": "stdout",
     "output_type": "stream",
     "text": [
      "seasoning Added\n",
      "Boiling Done\n"
     ]
    }
   ],
   "source": [
    "boil()"
   ]
  },
  {
   "cell_type": "markdown",
   "id": "082ce9a7",
   "metadata": {},
   "source": [
    "## With the help of *args , **kwargs we can make Variadic Functions"
   ]
  },
  {
   "cell_type": "code",
   "execution_count": 2,
   "id": "478c4a38",
   "metadata": {},
   "outputs": [],
   "source": [
    "def upperCase(func):\n",
    "    def wrapper(*args,**kwargs):\n",
    "        return func(*args,**kwargs).upper()\n",
    "    return wrapper"
   ]
  },
  {
   "cell_type": "code",
   "execution_count": 3,
   "id": "71a8723f",
   "metadata": {},
   "outputs": [],
   "source": [
    "def greet(name,surname):\n",
    "    return f\"Greetings {name} {surname}!!\""
   ]
  },
  {
   "cell_type": "code",
   "execution_count": 4,
   "id": "4c4918bc",
   "metadata": {},
   "outputs": [],
   "source": [
    "upper_name=upperCase(greet)"
   ]
  },
  {
   "cell_type": "code",
   "execution_count": 5,
   "id": "39b6a98a",
   "metadata": {},
   "outputs": [
    {
     "data": {
      "text/plain": [
       "'GREETINGS RISHABH ARORA!!'"
      ]
     },
     "execution_count": 5,
     "metadata": {},
     "output_type": "execute_result"
    }
   ],
   "source": [
    "upper_name(\"Rishabh\",\"Arora\")"
   ]
  },
  {
   "cell_type": "code",
   "execution_count": 6,
   "id": "ed919853",
   "metadata": {},
   "outputs": [],
   "source": [
    "@upperCase\n",
    "def greet(name):\n",
    "    return f\"Greetings {name} !!\""
   ]
  },
  {
   "cell_type": "code",
   "execution_count": 7,
   "id": "c8681f53",
   "metadata": {},
   "outputs": [
    {
     "data": {
      "text/plain": [
       "'GREETINGS RISHABH !!'"
      ]
     },
     "execution_count": 7,
     "metadata": {},
     "output_type": "execute_result"
    }
   ],
   "source": [
    "greet(\"rishabh\")"
   ]
  },
  {
   "cell_type": "markdown",
   "id": "b219b737",
   "metadata": {},
   "source": [
    "## Skill-Challenge Logging Decorator"
   ]
  },
  {
   "cell_type": "code",
   "execution_count": null,
   "id": "138dea01",
   "metadata": {},
   "outputs": [],
   "source": [
    "def logger(func):\n",
    "    def wrapper(*args,**kwargs):\n",
    "        print(f\"Logging for {func.__name__} with args {args} kwargs {kwargs}\")\n",
    "        result=func(*args,**kwargs) # Remember to pass args and kwargs with * everytime\n",
    "        print(f\"Logging for {func.__name__} and result is {result} \")\n",
    "        \n",
    "    return wrapper\n"
   ]
  },
  {
   "cell_type": "code",
   "execution_count": 2,
   "id": "41d0e420",
   "metadata": {},
   "outputs": [],
   "source": [
    "@logger\n",
    "def add(*args,**kwargs):\n",
    "    s=0\n",
    "    for num in args:\n",
    "        s+=num\n",
    "    return s"
   ]
  },
  {
   "cell_type": "code",
   "execution_count": 3,
   "id": "a2b1c6aa",
   "metadata": {},
   "outputs": [
    {
     "name": "stdout",
     "output_type": "stream",
     "text": [
      "Logging for add with args (8, 8, 2) kwargs {}\n",
      "Logging for add and result is 18 \n"
     ]
    }
   ],
   "source": [
    "add(8,8,2)"
   ]
  },
  {
   "cell_type": "markdown",
   "id": "2b9e1c9c",
   "metadata": {},
   "source": [
    "## Decorators With Arguments"
   ]
  },
  {
   "cell_type": "code",
   "execution_count": 7,
   "id": "a2d00ab2",
   "metadata": {},
   "outputs": [],
   "source": [
    "def ensure_healthy_workout(calorie_target):\n",
    "  def actual_decorator(func):\n",
    "    def wrapper(*args, **kwargs):\n",
    "      result = func(*args, **kwargs)\n",
    "      if result < calorie_target:\n",
    "        print(\"This workout was not intense enough!\")\n",
    "      else:\n",
    "        print(f\"Well done! Target exceeded by {result - calorie_target} calories!\")\n",
    "    return wrapper\n",
    "  return actual_decorator"
   ]
  },
  {
   "cell_type": "code",
   "execution_count": 8,
   "id": "cc96bee8",
   "metadata": {},
   "outputs": [],
   "source": [
    "@ensure_healthy_workout(calorie_target=500)\n",
    "def calories_burned(duration_in_minutes, calories_burned_per_minute):\n",
    "    return duration_in_minutes * calories_burned_per_minute"
   ]
  },
  {
   "cell_type": "code",
   "execution_count": 9,
   "id": "5ca107da",
   "metadata": {},
   "outputs": [
    {
     "name": "stdout",
     "output_type": "stream",
     "text": [
      "This workout was not intense enough!\n"
     ]
    }
   ],
   "source": [
    "calories_burned(30, 10)"
   ]
  },
  {
   "cell_type": "markdown",
   "id": "d330f480",
   "metadata": {},
   "source": [
    "## Chaining Multiple Decorators"
   ]
  },
  {
   "cell_type": "code",
   "execution_count": 10,
   "id": "b7d32e80",
   "metadata": {},
   "outputs": [],
   "source": [
    "# available decorators\n",
    "\n",
    "def uppercase(func):\n",
    "    def wrapper():\n",
    "        result = func()\n",
    "        return result.upper()\n",
    "    return wrapper\n",
    "\n",
    "def split(func):\n",
    "    def wrapper():\n",
    "        result = func()\n",
    "        return result.split()\n",
    "    return wrapper"
   ]
  },
  {
   "cell_type": "code",
   "execution_count": 11,
   "id": "d7cc0545",
   "metadata": {},
   "outputs": [],
   "source": [
    "# target function\n",
    "\n",
    "@split\n",
    "@uppercase\n",
    "def passphrase():\n",
    "    return \"Horizontal Omit Station Reflection\""
   ]
  },
  {
   "cell_type": "code",
   "execution_count": 12,
   "id": "dc4e6e19",
   "metadata": {},
   "outputs": [
    {
     "data": {
      "text/plain": [
       "['HORIZONTAL', 'OMIT', 'STATION', 'REFLECTION']"
      ]
     },
     "execution_count": 12,
     "metadata": {},
     "output_type": "execute_result"
    }
   ],
   "source": [
    "passphrase()"
   ]
  },
  {
   "cell_type": "markdown",
   "id": "1e0b4c7f",
   "metadata": {},
   "source": [
    "## Preserving Identify With @wraps"
   ]
  },
  {
   "cell_type": "code",
   "execution_count": 13,
   "id": "bc536aca",
   "metadata": {},
   "outputs": [],
   "source": [
    "from functools import wraps\n",
    "\n",
    "def split(func):\n",
    "    @wraps(func)\n",
    "    def wrapper():\n",
    "        result = func()\n",
    "        return result.split()\n",
    "    return wrapper"
   ]
  },
  {
   "cell_type": "code",
   "execution_count": 14,
   "id": "9007177c",
   "metadata": {},
   "outputs": [],
   "source": [
    "@split\n",
    "def passphrase():\n",
    "    \"\"\"Returns a string.\"\"\"\n",
    "    return \"Horizontal Omit Station Reflection\""
   ]
  },
  {
   "cell_type": "code",
   "execution_count": 15,
   "id": "ac56bcb1",
   "metadata": {},
   "outputs": [
    {
     "data": {
      "text/plain": [
       "'passphrase'"
      ]
     },
     "execution_count": 15,
     "metadata": {},
     "output_type": "execute_result"
    }
   ],
   "source": [
    "passphrase.__name__"
   ]
  },
  {
   "cell_type": "markdown",
   "id": "c5c2cf4b",
   "metadata": {},
   "source": [
    "## Skill Challenge: Delaying Downloads"
   ]
  },
  {
   "cell_type": "markdown",
   "id": "b440d6e2",
   "metadata": {},
   "source": [
    "> <font size=\"4\">write a placeholder function called 'download(user_id, resource)' that simulates the generation of a download link. For our purposes that could simply be a uuid() or a random alphanumeric string</font>\n",
    "\n",
    "> <font size=\"4\">then define a decorator that progressively slows down the downsloads for a given user by doubling the time it takes for the download link to be generated, e.g. the first invocation happens instantly, the second one takes 1 second, the third 2 second, the fourth 4 seconds, and so on. </font>\n",
    "\n",
    "> <font size=\"4\">note that the delay should be user-specific, but not resource specific</font>\n",
    "\n",
    "\n",
    "> ```\n",
    "download(3, \"Python\") # first invocation for UserId 3\n",
    "\n",
    "\n",
    "> ```\n",
    "Your resource is ready at: andybek.com/a0accf2c-9e65-44db-be5e-d4e64b9bee6e\n",
    "\n",
    "\n",
    "> ```\n",
    "download(3, \"Python\") # second invocation for UserId 3\n",
    "\n",
    "\n",
    "> ```\n",
    "Your download will start in 1s\n",
    "Your resource is ready at: andybek.com/fbcab9a3-b90b-4dd1-9882-d33b766ac273\n",
    "\n",
    "\n",
    "> ```\n",
    "download(3, \"Python\") # third invocation for UserId 3\n",
    "\n",
    "> ```\n",
    "Your download will start in 2s\n",
    "Your resource is ready at: andybek.com/cb8e6534-3128-4ce9-966e-9f8037a4cc66\n",
    "\n",
    "> ```\n",
    "download(4, \"Python\") # first invocation for UserId 4\n",
    "\n",
    "> ```\n",
    "Your resource is ready at: andybek.com/f8de5e18-b01c-4650-acda-27eff61a3b5a\n"
   ]
  },
  {
   "cell_type": "code",
   "execution_count": 20,
   "id": "fd5fca63",
   "metadata": {},
   "outputs": [],
   "source": [
    "import time\n",
    "from uuid import uuid4\n",
    "\n",
    "user_delay = {}\n",
    "\n",
    "def delay_decorator(func):\n",
    "  def wrapper(*args, **kwargs):\n",
    "    delay = user_delay.get(kwargs.get(\"user_id\"), 0)\n",
    "    user_delay[kwargs.get(\"user_id\")] = max(1, delay * 2)\n",
    "\n",
    "    if delay > 0:\n",
    "      print(f\"Your download will start in {delay}s\")\n",
    "\n",
    "    time.sleep(delay)\n",
    "    return func(*args, **kwargs)\n",
    "\n",
    "  return wrapper"
   ]
  },
  {
   "cell_type": "code",
   "execution_count": 21,
   "id": "3d63168d",
   "metadata": {},
   "outputs": [],
   "source": [
    "@delay_decorator\n",
    "def download(user_id, resource):\n",
    "  download_uuid = uuid4()\n",
    "  download_url = f\"andybek.com/{download_uuid}\"\n",
    "\n",
    "  return f\"Your resource is ready at: {download_url}\""
   ]
  },
  {
   "cell_type": "code",
   "execution_count": 22,
   "id": "4e6a737b",
   "metadata": {},
   "outputs": [
    {
     "data": {
      "text/plain": [
       "'Your resource is ready at: andybek.com/35a8e5a9-6702-47aa-9659-2ad9c3755929'"
      ]
     },
     "execution_count": 22,
     "metadata": {},
     "output_type": "execute_result"
    }
   ],
   "source": [
    "download(2, \"python\")"
   ]
  },
  {
   "cell_type": "markdown",
   "id": "27def057",
   "metadata": {},
   "source": [
    "## Skill Challenge: Authentication Workflow Part I"
   ]
  },
  {
   "cell_type": "markdown",
   "id": "e2bb38e9",
   "metadata": {},
   "source": [
    "<h2>Mock an interface</h2>\n",
    "\n",
    "> <font size=\"4\">write a basic function that exposes a menu with 3 options:\n",
    "\n",
    "\n",
    "- a. View Roster\n",
    "- b. Upvote\n",
    "- c. Add to Roster\n",
    "- d. Quit\n",
    "\n",
    "</font>\n",
    "\n",
    "> <font size=\"4\">...each of these options invokes their own respective functions, with the exception of 'Quit' which simply exits the menu.\n",
    "\n",
    "1.   'View Roster' prints a list of names and votes, in descending order by votes. For simplicity, this information is stored locally as a python list of dicts.\n",
    "2.   'Upvote' adds 1 vote to the specified user\n",
    "3.   'Add to Roster' allows the user to add a new name to that list\n",
    "</font>\n",
    "\n",
    "> ```\n",
    " Choose an option:\n",
    "        a. View roster\n",
    "        b. Upvote\n",
    "        c. Add to roster\n",
    "        d. Quit\n",
    "\n",
    "\n",
    "> ```\n",
    "Enter option: a\n",
    "\n",
    "\n",
    "> ```\n",
    "Bob: 3 votes\n",
    "Alice: 1 votes\n"
   ]
  },
  {
   "cell_type": "code",
   "execution_count": 23,
   "id": "e03b4e9e",
   "metadata": {},
   "outputs": [],
   "source": [
    "# application state ###\n",
    "ROSTER = [\n",
    "    { \"name\": \"Alice\", \"votes\": 12},\n",
    "    { \"name\": \"Tyler\", \"votes\": 9},\n",
    "    { \"name\": \"Andrew\", \"votes\": 10}\n",
    "]\n",
    "#######################\n",
    "\n",
    "def menu():\n",
    "  while True:\n",
    "    print(\"\"\"\n",
    "    a. View Roster\n",
    "    b. Upvote\n",
    "    c. Add to Roster\n",
    "    d. Quit\n",
    "    \"\"\")\n",
    "\n",
    "    option = input(\"Enter option: \").lower()\n",
    "\n",
    "    if option == \"a\":\n",
    "      view_roster()\n",
    "    elif option == \"b\":\n",
    "      upvote()\n",
    "    elif option == \"c\":\n",
    "      add_to_roster()\n",
    "    else:\n",
    "      break\n",
    "\n",
    "def view_roster():\n",
    "  sorted_roster = sorted(ROSTER, key=lambda p: p[\"votes\"], reverse=True)\n",
    "\n",
    "  for p in sorted_roster:\n",
    "    print(f\"{p['name']}: {p['votes']}\")\n",
    "\n",
    "\n",
    "def upvote():\n",
    "  name = input(\"Enter the name of the person to upvote: \").lower()\n",
    "\n",
    "  for p in ROSTER:\n",
    "    if p[\"name\"].lower() == name:\n",
    "      p[\"votes\"] += 1\n",
    "      print(f\"Upvoted {p['name']}!\")\n",
    "      return\n",
    "\n",
    "  print(\"Name was not found!\")\n",
    "\n",
    "\n",
    "def add_to_roster():\n",
    "  name = input(\"Enter the name of the person to add: \")\n",
    "  ROSTER.append({\"name\": name, \"votes\": 0})\n",
    "  print(f\"Added {name} to the roster!\")"
   ]
  },
  {
   "cell_type": "code",
   "execution_count": 24,
   "id": "425e2bd0",
   "metadata": {},
   "outputs": [
    {
     "name": "stdout",
     "output_type": "stream",
     "text": [
      "\n",
      "    a. View Roster\n",
      "    b. Upvote\n",
      "    c. Add to Roster\n",
      "    d. Quit\n",
      "    \n",
      "Alice: 12\n",
      "Andrew: 10\n",
      "Tyler: 9\n",
      "\n",
      "    a. View Roster\n",
      "    b. Upvote\n",
      "    c. Add to Roster\n",
      "    d. Quit\n",
      "    \n"
     ]
    }
   ],
   "source": [
    "menu()"
   ]
  },
  {
   "cell_type": "markdown",
   "id": "8abee0c4",
   "metadata": {},
   "source": [
    "## Skill Challenge - Building A Cache"
   ]
  },
  {
   "cell_type": "markdown",
   "id": "fb9a3e3b",
   "metadata": {},
   "source": [
    "> <font size=\"4\">define a function 'get_weather(city)' that simulates the retrieval of weather data for a given city. For simplicity, the function will return a dictionary containing random values for temperature (range from -10 to 30) and humidity (range from 0 to 100). Use a delay  of 1 second to mimic the real-time delay of calling a live API</font>\n",
    "\n",
    "> <font size=\"4\">then define a decorator 'cache_decorator(func)' that checks if the requested city's weather data is already in the cache AND it isn't too old (i.e. less than 10 seconds old). If the data meets both conditions, the decorator should return a value from cache rather than allow the invocation of the target function</font>\n",
    "\n",
    "> <font size=\"4\">if the weather data for the city is not in the cache or it's too old, the 'get_weather(city)' invocation should be allowed to get and return fresh data. In addition, the cacheshould be updated with the new data</font>\n",
    "\n",
    "> <font size=\"4\">for simplicity, implement the weather data cache for each city as a dictionary</font>\n",
    "\n",
    "> ```\n",
    " get_weather(\"Toronto\")\n",
    "\n",
    "\n",
    "> ```\n",
    "Fetching weather data for Toronto...\n",
    "{'temperature': -1, 'humidity': 32}\n",
    "\n",
    "\n",
    "> ```\n",
    "get_weather(\"Toronto\")\n",
    "\n",
    "> ```\n",
    "Returning cached result for  Toronto\n",
    "{'temperature': -1, 'humidity': 32}\n",
    "\n",
    "> ```\n",
    "get_weather(\"Toronto\") # more than 10 seconds after 1st call\n",
    "\n",
    "> ```\n",
    "Fetching weather data for Toronto...\n",
    "{'temperature': 11, 'humidity': 14}\n"
   ]
  },
  {
   "cell_type": "code",
   "execution_count": 25,
   "id": "204c05b4",
   "metadata": {},
   "outputs": [],
   "source": [
    "import time\n",
    "from random import randint\n",
    "from functools import wraps\n",
    "\n",
    "# cache = {\n",
    "#     \"city1\": {\n",
    "#         \"data\": **weather**,\n",
    "#         \"time\": 12312312\n",
    "#     },\n",
    "#     \"city2\": {},\n",
    "#     \"city3\": {},\n",
    "# }\n",
    "\n",
    "cache = {}\n",
    "\n",
    "# - introduce some cache/memory\n",
    "# - before invocation, check cache\n",
    "\n",
    "def cache_decorator(func):\n",
    "  @wraps(func)\n",
    "  def wrapper(city):\n",
    "\n",
    "    if city in cache and time.time() - cache[city]['time'] < 10:\n",
    "      print(f\"Returning cached result for {city}...\")\n",
    "      return cache[city]['data']\n",
    "\n",
    "    result = func(city)\n",
    "    cache[city] = {\n",
    "        \"data\": result,\n",
    "        \"time\": time.time()\n",
    "    }\n",
    "\n",
    "    return result\n",
    "  return wrapper\n",
    "\n",
    "\n",
    "@cache_decorator\n",
    "def get_weather(city):\n",
    "  print(f\"Fetching weather data for {city}...\")\n",
    "  time.sleep(1)\n",
    "\n",
    "  weather_data = {\n",
    "      'temperature': randint(-10, 30),\n",
    "      'humidity': randint(0, 100)\n",
    "  }\n",
    "\n",
    "  return weather_data"
   ]
  },
  {
   "cell_type": "code",
   "execution_count": 26,
   "id": "957364d3",
   "metadata": {},
   "outputs": [
    {
     "name": "stdout",
     "output_type": "stream",
     "text": [
      "Fetching weather data for Toronto...\n"
     ]
    },
    {
     "data": {
      "text/plain": [
       "{'temperature': 24, 'humidity': 83}"
      ]
     },
     "execution_count": 26,
     "metadata": {},
     "output_type": "execute_result"
    }
   ],
   "source": [
    "get_weather(\"Toronto\")"
   ]
  },
  {
   "cell_type": "code",
   "execution_count": null,
   "id": "fedf268a",
   "metadata": {},
   "outputs": [],
   "source": []
  }
 ],
 "metadata": {
  "kernelspec": {
   "display_name": "testing_py311_env",
   "language": "python",
   "name": "python3"
  },
  "language_info": {
   "codemirror_mode": {
    "name": "ipython",
    "version": 3
   },
   "file_extension": ".py",
   "mimetype": "text/x-python",
   "name": "python",
   "nbconvert_exporter": "python",
   "pygments_lexer": "ipython3",
   "version": "3.11.11"
  }
 },
 "nbformat": 4,
 "nbformat_minor": 5
}
